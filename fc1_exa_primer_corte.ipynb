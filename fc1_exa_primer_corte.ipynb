{
 "cells": [
  {
   "cell_type": "markdown",
   "metadata": {},
   "source": [
    "# Exámen Física Computacional I(2020-I)\n",
    "\n",
    "## Transformada de Fourier"
   ]
  },
  {
   "cell_type": "markdown",
   "metadata": {},
   "source": [
    "Del libro guía (Mark Newman, Computational Physics, 2013, University of Michigan) realizar los ejercicios:\n",
    "\n",
    "- 7.4\n",
    "- 7.5"
   ]
  },
  {
   "cell_type": "markdown",
   "metadata": {},
   "source": [
    "## Criterios de evaluación\n",
    "\n",
    "Como criterios de evaluación se tendrá en cuenta:\n",
    "\n",
    "- Los comentarios que expliquen qué hace el respectivo código. Por ejemplo:\n",
    "<br><br>\n",
    "```data = loadtxt('file.dat', float) # Importe de los datos desde archivo file.dat a la variable tipo array data```\n",
    "<br><br>\n",
    "- La explicación y discución que haga a sus resultados desde el punto de vista de la Física. Usando para esto el modo texto (Markdown) del Notebook. Por ejemplo:<br> Se observa una mejoría en la identifación de los meses que presentan máximos en el conteo de manchas solares, luego de aplicar la función $Y_k$ (*Running Average*), para una ventana de 10 meses. De esta manera se puede estimar con mejor precisión el ciclo de manchas solares del Sol."
   ]
  },
  {
   "cell_type": "markdown",
   "metadata": {},
   "source": [
    "**Nota**\n",
    "\n",
    "Recuerde que Python es una herramienta y que lo importante es la Física que se puede extraer y/o corroborar de los datos."
   ]
  }
 ],
 "metadata": {
  "kernelspec": {
   "display_name": "Python 3",
   "language": "python",
   "name": "python3"
  },
  "language_info": {
   "codemirror_mode": {
    "name": "ipython",
    "version": 3
   },
   "file_extension": ".py",
   "mimetype": "text/x-python",
   "name": "python",
   "nbconvert_exporter": "python",
   "pygments_lexer": "ipython3",
   "version": "3.5.2"
  }
 },
 "nbformat": 4,
 "nbformat_minor": 2
}
